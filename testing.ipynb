{
 "cells": [
  {
   "cell_type": "code",
   "execution_count": 1,
   "metadata": {},
   "outputs": [],
   "source": [
    "import numpy as np\n",
    "from scipy.optimize import fmin_l_bfgs_b\n",
    "import pandas as pd\n",
    "from sklearn.model_selection import train_test_split\n",
    "from sklearn.preprocessing import LabelEncoder, OneHotEncoder, StandardScaler\n",
    "from sklearn.compose import ColumnTransformer\n",
    "from solution import MultinomialLogReg\n",
    "from sklearn.linear_model import LogisticRegression\n"
   ]
  },
  {
   "cell_type": "code",
   "execution_count": 2,
   "metadata": {},
   "outputs": [
    {
     "data": {
      "text/plain": [
       "array(['above head', 'layup', 'other', 'hook shot', 'dunk', 'tip-in'],\n",
       "      dtype=object)"
      ]
     },
     "execution_count": 2,
     "metadata": {},
     "output_type": "execute_result"
    }
   ],
   "source": [
    "df = pd.read_csv(\"dataset.csv\", delimiter=\";\")\n",
    "df[\"ShotType\"].unique()"
   ]
  },
  {
   "cell_type": "code",
   "execution_count": 3,
   "metadata": {},
   "outputs": [],
   "source": [
    "transformer = ColumnTransformer(\n",
    "    transformers=[\n",
    "        (\"pass\", \"passthrough\", [\"Transition\", \"TwoLegged\"]),\n",
    "        (\"categorical\", OneHotEncoder(), [\"Competition\", \"PlayerType\", \"Movement\"]),\n",
    "        (\"scaled\", StandardScaler(), [\"Angle\", \"Distance\"])\n",
    "    ]\n",
    ")\n",
    "\n",
    "# train, test = train_test_split(df, test_size=0.2, random_state=42)\n",
    "\n",
    "# y_train = train[\"ShotType\"]\n",
    "# X_train = train.drop(columns=\"ShotType\")\n",
    "\n",
    "y = df[\"ShotType\"]\n",
    "X = df.drop(columns=\"ShotType\")\n",
    "\n",
    "transformer.fit(X)\n",
    "transformed_X = transformer.transform(X)\n",
    "# transformed_X_test = transformer.transform(X)\n",
    "\n",
    "encoder = LabelEncoder()\n",
    "encoder.fit(y)\n",
    "\n",
    "encoded_y = encoder.transform(y)\n",
    "# encoded_y_test = encoder.transform(y_test)\n",
    "\n",
    "\n",
    "# transformed_train_df = pd.DataFrame(transformed_X_train, columns=transformer.get_feature_names_out())\n"
   ]
  },
  {
   "cell_type": "code",
   "execution_count": 4,
   "metadata": {},
   "outputs": [
    {
     "name": "stdout",
     "output_type": "stream",
     "text": [
      "(array([-0.60224697,  0.37064278, -0.96453784, -0.14193283, -0.48975958,\n",
      "       -7.3739245 ,  7.60130199, -7.15659068, 10.40796115, -8.72051099,\n",
      "        2.05178488, -0.91501466,  0.4943401 ,  0.07243649,  2.55475631,\n",
      "        2.68814749,  0.3049871 ,  0.41332802,  1.05303445,  3.36546691,\n",
      "        2.01852908, -1.12510121,  0.40128966,  0.53800038,  2.10985688,\n",
      "        9.86368449, -5.88736551,  6.68471046,  8.18639128, 11.28842959,\n",
      "        4.12559948, -0.75496537,  1.48917692,  2.8519283 ,  5.24069147,\n",
      "        6.28667303, -1.84890075,  2.60229052,  5.53264886,  7.68902723,\n",
      "        6.81183493, -2.82422522,  2.72829391,  5.94072226,  8.54642648,\n",
      "        6.49694724, -2.78202804,  2.14777562,  5.84646067,  8.42992019,\n",
      "       15.2397245 , -5.59351188, -4.64246165, 14.73707078, 12.61121311,\n",
      "       -4.56063282, -2.46928321, -3.24732092, 12.56818434, 10.80917707,\n",
      "       10.89553615, -0.72155145, 14.29456736, -8.9532486 ,  7.10656607,\n",
      "        0.35185973,  0.22073282,  0.10024181,  0.65399702,  0.3742368 ,\n",
      "       10.15408605,  3.08345865,  8.00556375,  5.75726435,  9.8787944 ]), 3301.9650875876996, {'grad': array([-5.91171553e-04, -8.50377547e-03, -9.09494697e-04, -4.32009984e-03,\n",
      "       -4.36557457e-03,  6.27551348e-03, -7.27595766e-04,  2.91038306e-03,\n",
      "       -1.06410871e-02, -4.54747313e-05, -1.95541362e-03, -9.77706799e-03,\n",
      "       -3.31965566e-03, -1.09594112e-02,  3.81987777e-03, -8.18545237e-04,\n",
      "       -2.36468623e-03, -9.64064384e-03, -6.68478610e-03,  5.82076613e-03,\n",
      "        1.35059964e-02,  1.27329259e-03,  1.86446414e-03,  1.09139364e-03,\n",
      "        6.45741242e-03, -5.36601830e-03,  9.09494707e-05,  2.77395886e-03,\n",
      "        1.50066613e-03, -9.86801670e-03,  7.13953345e-03,  1.00044417e-02,\n",
      "       -1.45519153e-03, -2.95585780e-03,  1.31876733e-03, -4.27462512e-03,\n",
      "       -4.54747354e-03, -1.09139365e-03, -4.72937248e-03,  5.77529139e-03,\n",
      "        5.82076613e-03, -2.63753465e-03, -4.00177671e-03, -1.16415323e-02,\n",
      "       -6.18456346e-03,  1.09139365e-02,  6.45741242e-03, -4.72937248e-03,\n",
      "       -1.68256521e-03,  7.95807798e-03,  3.18323119e-03,  0.00000000e+00,\n",
      "        0.00000000e+00, -8.32187583e-03,  5.00222045e-03,  0.00000000e+00,\n",
      "        0.00000000e+00,  0.00000000e+00,  1.00044409e-03, -1.18234301e-03,\n",
      "        9.36779465e-03, -7.27595758e-04, -9.77706724e-03, -1.06410871e-02,\n",
      "        3.77440304e-03, -7.63975550e-03,  8.18545232e-04, -3.31965566e-03,\n",
      "       -6.45741235e-03, -3.59250407e-03, -1.06410871e-02, -7.23048292e-03,\n",
      "        1.40971667e-03, -8.18545237e-04, -2.27373657e-04]), 'task': 'CONVERGENCE: REL_REDUCTION_OF_F_<=_FACTR*EPSMCH', 'funcalls': 39596, 'nit': 493, 'warnflag': 0})\n",
      "[[-0.60224697  0.37064278 -0.96453784 -0.14193283 -0.48975958]\n",
      " [-7.3739245   7.60130199 -7.15659068 10.40796115 -8.72051099]\n",
      " [ 2.05178488 -0.91501466  0.4943401   0.07243649  2.55475631]\n",
      " [ 2.68814749  0.3049871   0.41332802  1.05303445  3.36546691]\n",
      " [ 2.01852908 -1.12510121  0.40128966  0.53800038  2.10985688]\n",
      " [ 9.86368449 -5.88736551  6.68471046  8.18639128 11.28842959]\n",
      " [ 4.12559948 -0.75496537  1.48917692  2.8519283   5.24069147]\n",
      " [ 6.28667303 -1.84890075  2.60229052  5.53264886  7.68902723]\n",
      " [ 6.81183493 -2.82422522  2.72829391  5.94072226  8.54642648]\n",
      " [ 6.49694724 -2.78202804  2.14777562  5.84646067  8.42992019]\n",
      " [15.2397245  -5.59351188 -4.64246165 14.73707078 12.61121311]\n",
      " [-4.56063282 -2.46928321 -3.24732092 12.56818434 10.80917707]\n",
      " [10.89553615 -0.72155145 14.29456736 -8.9532486   7.10656607]\n",
      " [ 0.35185973  0.22073282  0.10024181  0.65399702  0.3742368 ]\n",
      " [10.15408605  3.08345865  8.00556375  5.75726435  9.8787944 ]]\n"
     ]
    },
    {
     "data": {
      "text/plain": [
       "<solution.MultinomialLogReg at 0x229c4e38c10>"
      ]
     },
     "execution_count": 4,
     "metadata": {},
     "output_type": "execute_result"
    }
   ],
   "source": [
    "mult_reg = MultinomialLogReg()\n",
    "mult_reg.build(transformed_X, encoded_y)"
   ]
  },
  {
   "cell_type": "code",
   "execution_count": 5,
   "metadata": {},
   "outputs": [],
   "source": [
    "# probs = mult_reg.predict(transformed_X_test)\n",
    "# classes = np.argmax(probs, axis=1)\n",
    "# # predictions = [mult_reg.decoder[label] for label in classes]\n",
    "# accuracy = np.mean(classes == encoded_y_test)\n",
    "# print(accuracy)"
   ]
  },
  {
   "cell_type": "code",
   "execution_count": 6,
   "metadata": {},
   "outputs": [
    {
     "data": {
      "text/plain": [
       "[0, 1, 2, 3, 4]"
      ]
     },
     "execution_count": 6,
     "metadata": {},
     "output_type": "execute_result"
    }
   ],
   "source": [
    "uniq = df[\"ShotType\"].unique()\n",
    "encoder.transform(uniq)\n",
    "[i for i in range(mult_reg.betas.shape[1])]"
   ]
  },
  {
   "cell_type": "markdown",
   "metadata": {},
   "source": [
    "So apparently one way to calculate the SE for each beta is sqrt(Var-Cov matrix of betas) and then every diagonal elemen"
   ]
  },
  {
   "cell_type": "code",
   "execution_count": 7,
   "metadata": {},
   "outputs": [
    {
     "data": {
      "text/html": [
       "<div>\n",
       "<style scoped>\n",
       "    .dataframe tbody tr th:only-of-type {\n",
       "        vertical-align: middle;\n",
       "    }\n",
       "\n",
       "    .dataframe tbody tr th {\n",
       "        vertical-align: top;\n",
       "    }\n",
       "\n",
       "    .dataframe thead th {\n",
       "        text-align: right;\n",
       "    }\n",
       "</style>\n",
       "<table border=\"1\" class=\"dataframe\">\n",
       "  <thead>\n",
       "    <tr style=\"text-align: right;\">\n",
       "      <th></th>\n",
       "      <th>pass__Transition</th>\n",
       "      <th>pass__TwoLegged</th>\n",
       "      <th>categorical__Competition_EURO</th>\n",
       "      <th>categorical__Competition_NBA</th>\n",
       "      <th>categorical__Competition_SLO1</th>\n",
       "      <th>categorical__Competition_U14</th>\n",
       "      <th>categorical__Competition_U16</th>\n",
       "      <th>categorical__PlayerType_C</th>\n",
       "      <th>categorical__PlayerType_F</th>\n",
       "      <th>categorical__PlayerType_G</th>\n",
       "      <th>categorical__Movement_dribble or cut</th>\n",
       "      <th>categorical__Movement_drive</th>\n",
       "      <th>categorical__Movement_no</th>\n",
       "      <th>scaled__Angle</th>\n",
       "      <th>scaled__Distance</th>\n",
       "    </tr>\n",
       "  </thead>\n",
       "  <tbody>\n",
       "    <tr>\n",
       "      <th>above head</th>\n",
       "      <td>-0.602247</td>\n",
       "      <td>-7.373924</td>\n",
       "      <td>2.051785</td>\n",
       "      <td>2.688147</td>\n",
       "      <td>2.018529</td>\n",
       "      <td>9.863684</td>\n",
       "      <td>4.125599</td>\n",
       "      <td>6.286673</td>\n",
       "      <td>6.811835</td>\n",
       "      <td>6.496947</td>\n",
       "      <td>15.239725</td>\n",
       "      <td>-4.560633</td>\n",
       "      <td>10.895536</td>\n",
       "      <td>0.351860</td>\n",
       "      <td>10.154086</td>\n",
       "    </tr>\n",
       "    <tr>\n",
       "      <th>dunk</th>\n",
       "      <td>0.370643</td>\n",
       "      <td>7.601302</td>\n",
       "      <td>-0.915015</td>\n",
       "      <td>0.304987</td>\n",
       "      <td>-1.125101</td>\n",
       "      <td>-5.887366</td>\n",
       "      <td>-0.754965</td>\n",
       "      <td>-1.848901</td>\n",
       "      <td>-2.824225</td>\n",
       "      <td>-2.782028</td>\n",
       "      <td>-5.593512</td>\n",
       "      <td>-2.469283</td>\n",
       "      <td>-0.721551</td>\n",
       "      <td>0.220733</td>\n",
       "      <td>3.083459</td>\n",
       "    </tr>\n",
       "    <tr>\n",
       "      <th>hook shot</th>\n",
       "      <td>-0.964538</td>\n",
       "      <td>-7.156591</td>\n",
       "      <td>0.494340</td>\n",
       "      <td>0.413328</td>\n",
       "      <td>0.401290</td>\n",
       "      <td>6.684710</td>\n",
       "      <td>1.489177</td>\n",
       "      <td>2.602291</td>\n",
       "      <td>2.728294</td>\n",
       "      <td>2.147776</td>\n",
       "      <td>-4.642462</td>\n",
       "      <td>-3.247321</td>\n",
       "      <td>14.294567</td>\n",
       "      <td>0.100242</td>\n",
       "      <td>8.005564</td>\n",
       "    </tr>\n",
       "    <tr>\n",
       "      <th>layup</th>\n",
       "      <td>-0.141933</td>\n",
       "      <td>10.407961</td>\n",
       "      <td>0.072436</td>\n",
       "      <td>1.053034</td>\n",
       "      <td>0.538000</td>\n",
       "      <td>8.186391</td>\n",
       "      <td>2.851928</td>\n",
       "      <td>5.532649</td>\n",
       "      <td>5.940722</td>\n",
       "      <td>5.846461</td>\n",
       "      <td>14.737071</td>\n",
       "      <td>12.568184</td>\n",
       "      <td>-8.953249</td>\n",
       "      <td>0.653997</td>\n",
       "      <td>5.757264</td>\n",
       "    </tr>\n",
       "    <tr>\n",
       "      <th>other</th>\n",
       "      <td>-0.489760</td>\n",
       "      <td>-8.720511</td>\n",
       "      <td>2.554756</td>\n",
       "      <td>3.365467</td>\n",
       "      <td>2.109857</td>\n",
       "      <td>11.288430</td>\n",
       "      <td>5.240691</td>\n",
       "      <td>7.689027</td>\n",
       "      <td>8.546426</td>\n",
       "      <td>8.429920</td>\n",
       "      <td>12.611213</td>\n",
       "      <td>10.809177</td>\n",
       "      <td>7.106566</td>\n",
       "      <td>0.374237</td>\n",
       "      <td>9.878794</td>\n",
       "    </tr>\n",
       "  </tbody>\n",
       "</table>\n",
       "</div>"
      ],
      "text/plain": [
       "            pass__Transition  pass__TwoLegged  categorical__Competition_EURO  \\\n",
       "above head         -0.602247        -7.373924                       2.051785   \n",
       "dunk                0.370643         7.601302                      -0.915015   \n",
       "hook shot          -0.964538        -7.156591                       0.494340   \n",
       "layup              -0.141933        10.407961                       0.072436   \n",
       "other              -0.489760        -8.720511                       2.554756   \n",
       "\n",
       "            categorical__Competition_NBA  categorical__Competition_SLO1  \\\n",
       "above head                      2.688147                       2.018529   \n",
       "dunk                            0.304987                      -1.125101   \n",
       "hook shot                       0.413328                       0.401290   \n",
       "layup                           1.053034                       0.538000   \n",
       "other                           3.365467                       2.109857   \n",
       "\n",
       "            categorical__Competition_U14  categorical__Competition_U16  \\\n",
       "above head                      9.863684                      4.125599   \n",
       "dunk                           -5.887366                     -0.754965   \n",
       "hook shot                       6.684710                      1.489177   \n",
       "layup                           8.186391                      2.851928   \n",
       "other                          11.288430                      5.240691   \n",
       "\n",
       "            categorical__PlayerType_C  categorical__PlayerType_F  \\\n",
       "above head                   6.286673                   6.811835   \n",
       "dunk                        -1.848901                  -2.824225   \n",
       "hook shot                    2.602291                   2.728294   \n",
       "layup                        5.532649                   5.940722   \n",
       "other                        7.689027                   8.546426   \n",
       "\n",
       "            categorical__PlayerType_G  categorical__Movement_dribble or cut  \\\n",
       "above head                   6.496947                             15.239725   \n",
       "dunk                        -2.782028                             -5.593512   \n",
       "hook shot                    2.147776                             -4.642462   \n",
       "layup                        5.846461                             14.737071   \n",
       "other                        8.429920                             12.611213   \n",
       "\n",
       "            categorical__Movement_drive  categorical__Movement_no  \\\n",
       "above head                    -4.560633                 10.895536   \n",
       "dunk                          -2.469283                 -0.721551   \n",
       "hook shot                     -3.247321                 14.294567   \n",
       "layup                         12.568184                 -8.953249   \n",
       "other                         10.809177                  7.106566   \n",
       "\n",
       "            scaled__Angle  scaled__Distance  \n",
       "above head       0.351860         10.154086  \n",
       "dunk             0.220733          3.083459  \n",
       "hook shot        0.100242          8.005564  \n",
       "layup            0.653997          5.757264  \n",
       "other            0.374237          9.878794  "
      ]
     },
     "execution_count": 7,
     "metadata": {},
     "output_type": "execute_result"
    }
   ],
   "source": [
    "betas = pd.DataFrame(mult_reg.betas.T, columns=transformer.get_feature_names_out(), index=encoder.inverse_transform([i for i in range(mult_reg.betas.shape[1])]))\n",
    "betas"
   ]
  },
  {
   "cell_type": "code",
   "execution_count": 8,
   "metadata": {},
   "outputs": [
    {
     "data": {
      "text/html": [
       "<div>\n",
       "<style scoped>\n",
       "    .dataframe tbody tr th:only-of-type {\n",
       "        vertical-align: middle;\n",
       "    }\n",
       "\n",
       "    .dataframe tbody tr th {\n",
       "        vertical-align: top;\n",
       "    }\n",
       "\n",
       "    .dataframe thead th {\n",
       "        text-align: right;\n",
       "    }\n",
       "</style>\n",
       "<table border=\"1\" class=\"dataframe\">\n",
       "  <thead>\n",
       "    <tr style=\"text-align: right;\">\n",
       "      <th></th>\n",
       "      <th>ShotType</th>\n",
       "      <th>Competition</th>\n",
       "      <th>PlayerType</th>\n",
       "      <th>Transition</th>\n",
       "      <th>Movement</th>\n",
       "      <th>Angle</th>\n",
       "      <th>Distance</th>\n",
       "    </tr>\n",
       "    <tr>\n",
       "      <th>TwoLegged</th>\n",
       "      <th></th>\n",
       "      <th></th>\n",
       "      <th></th>\n",
       "      <th></th>\n",
       "      <th></th>\n",
       "      <th></th>\n",
       "      <th></th>\n",
       "    </tr>\n",
       "  </thead>\n",
       "  <tbody>\n",
       "    <tr>\n",
       "      <th>1</th>\n",
       "      <td>61</td>\n",
       "      <td>61</td>\n",
       "      <td>61</td>\n",
       "      <td>61</td>\n",
       "      <td>61</td>\n",
       "      <td>61</td>\n",
       "      <td>61</td>\n",
       "    </tr>\n",
       "  </tbody>\n",
       "</table>\n",
       "</div>"
      ],
      "text/plain": [
       "           ShotType  Competition  PlayerType  Transition  Movement  Angle  \\\n",
       "TwoLegged                                                                   \n",
       "1                61           61          61          61        61     61   \n",
       "\n",
       "           Distance  \n",
       "TwoLegged            \n",
       "1                61  "
      ]
     },
     "execution_count": 8,
     "metadata": {},
     "output_type": "execute_result"
    }
   ],
   "source": [
    "df.loc[df[\"ShotType\"] == \"tip-in\"].groupby(\"TwoLegged\").count()"
   ]
  },
  {
   "cell_type": "code",
   "execution_count": 9,
   "metadata": {},
   "outputs": [
    {
     "data": {
      "text/plain": [
       "22026.465794806718"
      ]
     },
     "execution_count": 9,
     "metadata": {},
     "output_type": "execute_result"
    }
   ],
   "source": [
    "np.exp(10)"
   ]
  },
  {
   "cell_type": "code",
   "execution_count": null,
   "metadata": {},
   "outputs": [
    {
     "data": {
      "text/html": [
       "<style>#sk-container-id-1 {color: black;}#sk-container-id-1 pre{padding: 0;}#sk-container-id-1 div.sk-toggleable {background-color: white;}#sk-container-id-1 label.sk-toggleable__label {cursor: pointer;display: block;width: 100%;margin-bottom: 0;padding: 0.3em;box-sizing: border-box;text-align: center;}#sk-container-id-1 label.sk-toggleable__label-arrow:before {content: \"▸\";float: left;margin-right: 0.25em;color: #696969;}#sk-container-id-1 label.sk-toggleable__label-arrow:hover:before {color: black;}#sk-container-id-1 div.sk-estimator:hover label.sk-toggleable__label-arrow:before {color: black;}#sk-container-id-1 div.sk-toggleable__content {max-height: 0;max-width: 0;overflow: hidden;text-align: left;background-color: #f0f8ff;}#sk-container-id-1 div.sk-toggleable__content pre {margin: 0.2em;color: black;border-radius: 0.25em;background-color: #f0f8ff;}#sk-container-id-1 input.sk-toggleable__control:checked~div.sk-toggleable__content {max-height: 200px;max-width: 100%;overflow: auto;}#sk-container-id-1 input.sk-toggleable__control:checked~label.sk-toggleable__label-arrow:before {content: \"▾\";}#sk-container-id-1 div.sk-estimator input.sk-toggleable__control:checked~label.sk-toggleable__label {background-color: #d4ebff;}#sk-container-id-1 div.sk-label input.sk-toggleable__control:checked~label.sk-toggleable__label {background-color: #d4ebff;}#sk-container-id-1 input.sk-hidden--visually {border: 0;clip: rect(1px 1px 1px 1px);clip: rect(1px, 1px, 1px, 1px);height: 1px;margin: -1px;overflow: hidden;padding: 0;position: absolute;width: 1px;}#sk-container-id-1 div.sk-estimator {font-family: monospace;background-color: #f0f8ff;border: 1px dotted black;border-radius: 0.25em;box-sizing: border-box;margin-bottom: 0.5em;}#sk-container-id-1 div.sk-estimator:hover {background-color: #d4ebff;}#sk-container-id-1 div.sk-parallel-item::after {content: \"\";width: 100%;border-bottom: 1px solid gray;flex-grow: 1;}#sk-container-id-1 div.sk-label:hover label.sk-toggleable__label {background-color: #d4ebff;}#sk-container-id-1 div.sk-serial::before {content: \"\";position: absolute;border-left: 1px solid gray;box-sizing: border-box;top: 0;bottom: 0;left: 50%;z-index: 0;}#sk-container-id-1 div.sk-serial {display: flex;flex-direction: column;align-items: center;background-color: white;padding-right: 0.2em;padding-left: 0.2em;position: relative;}#sk-container-id-1 div.sk-item {position: relative;z-index: 1;}#sk-container-id-1 div.sk-parallel {display: flex;align-items: stretch;justify-content: center;background-color: white;position: relative;}#sk-container-id-1 div.sk-item::before, #sk-container-id-1 div.sk-parallel-item::before {content: \"\";position: absolute;border-left: 1px solid gray;box-sizing: border-box;top: 0;bottom: 0;left: 50%;z-index: -1;}#sk-container-id-1 div.sk-parallel-item {display: flex;flex-direction: column;z-index: 1;position: relative;background-color: white;}#sk-container-id-1 div.sk-parallel-item:first-child::after {align-self: flex-end;width: 50%;}#sk-container-id-1 div.sk-parallel-item:last-child::after {align-self: flex-start;width: 50%;}#sk-container-id-1 div.sk-parallel-item:only-child::after {width: 0;}#sk-container-id-1 div.sk-dashed-wrapped {border: 1px dashed gray;margin: 0 0.4em 0.5em 0.4em;box-sizing: border-box;padding-bottom: 0.4em;background-color: white;}#sk-container-id-1 div.sk-label label {font-family: monospace;font-weight: bold;display: inline-block;line-height: 1.2em;}#sk-container-id-1 div.sk-label-container {text-align: center;}#sk-container-id-1 div.sk-container {/* jupyter's `normalize.less` sets `[hidden] { display: none; }` but bootstrap.min.css set `[hidden] { display: none !important; }` so we also need the `!important` here to be able to override the default hidden behavior on the sphinx rendered scikit-learn.org. See: https://github.com/scikit-learn/scikit-learn/issues/21755 */display: inline-block !important;position: relative;}#sk-container-id-1 div.sk-text-repr-fallback {display: none;}</style><div id=\"sk-container-id-1\" class=\"sk-top-container\"><div class=\"sk-text-repr-fallback\"><pre>LogisticRegression(fit_intercept=False, max_iter=100000000, penalty=None)</pre><b>In a Jupyter environment, please rerun this cell to show the HTML representation or trust the notebook. <br />On GitHub, the HTML representation is unable to render, please try loading this page with nbviewer.org.</b></div><div class=\"sk-container\" hidden><div class=\"sk-item\"><div class=\"sk-estimator sk-toggleable\"><input class=\"sk-toggleable__control sk-hidden--visually\" id=\"sk-estimator-id-1\" type=\"checkbox\" checked><label for=\"sk-estimator-id-1\" class=\"sk-toggleable__label sk-toggleable__label-arrow\">LogisticRegression</label><div class=\"sk-toggleable__content\"><pre>LogisticRegression(fit_intercept=False, max_iter=100000000, penalty=None)</pre></div></div></div></div></div>"
      ],
      "text/plain": [
       "LogisticRegression(fit_intercept=False, max_iter=100000000, penalty=None)"
      ]
     },
     "execution_count": 10,
     "metadata": {},
     "output_type": "execute_result"
    }
   ],
   "source": [
    "lr = LogisticRegression(penalty=None, fit_intercept=False, max_iter=100000000, random_state=42)\n",
    "lr.fit(transformed_X, encoded_y)"
   ]
  },
  {
   "cell_type": "code",
   "execution_count": 11,
   "metadata": {},
   "outputs": [
    {
     "name": "stdout",
     "output_type": "stream",
     "text": [
      "[0 1 2 3 4 5]\n"
     ]
    },
    {
     "data": {
      "text/plain": [
       "array([[-0.29714417, -5.30321229,  0.85425974,  0.89595089,  0.87307663,\n",
       "         4.90934099,  1.47746596,  2.80381057,  3.17230008,  3.03398357,\n",
       "         6.42663976, -3.94865196,  6.53210642,  0.06846859,  4.01643586],\n",
       "       [ 0.67560411,  4.87171913, -0.60136936,  0.0242725 , -0.75942217,\n",
       "        -8.4544987 , -1.89164545, -3.21218425, -4.34447193, -4.126007  ,\n",
       "        -5.09625328, -2.66077255, -3.92563735, -0.06301671, -3.06373781],\n",
       "       [-0.6599516 , -5.08633047, -0.10207138, -0.77763768, -0.14306418,\n",
       "         2.33147725, -0.55777317,  0.40536651,  0.37464115, -0.02907681,\n",
       "        -4.68357469, -2.60989096,  8.0443965 , -0.18298483,  1.86786715],\n",
       "       [ 0.16327391,  7.54502424, -0.3767345 ,  0.00920991,  0.14090921,\n",
       "         3.98026399,  0.95214197,  1.37352016,  1.6250337 ,  1.70723674,\n",
       "         5.85262792,  7.30749647, -8.45433381,  0.37072555, -0.37978208],\n",
       "       [-0.18447841, -6.64977469,  1.40317735,  1.61917416,  1.0104695 ,\n",
       "         6.38010707,  2.63851382,  3.86318567,  4.56420657,  4.62404967,\n",
       "         4.09496479,  5.91679299,  3.03968412,  0.09101667,  3.74111116],\n",
       "       [ 0.30269616,  4.62257407, -1.17726186, -1.77096979, -1.12196899,\n",
       "        -9.14669061, -2.61870314, -5.23369867, -5.39170955, -5.21018616,\n",
       "        -6.5944045 , -4.004974  , -5.23621589, -0.28420927, -6.18189428]])"
      ]
     },
     "execution_count": 11,
     "metadata": {},
     "output_type": "execute_result"
    }
   ],
   "source": [
    "print(lr.classes_)\n",
    "lr.coef_"
   ]
  }
 ],
 "metadata": {
  "kernelspec": {
   "display_name": "MLDS_P2",
   "language": "python",
   "name": "python3"
  },
  "language_info": {
   "codemirror_mode": {
    "name": "ipython",
    "version": 3
   },
   "file_extension": ".py",
   "mimetype": "text/x-python",
   "name": "python",
   "nbconvert_exporter": "python",
   "pygments_lexer": "ipython3",
   "version": "3.8.20"
  }
 },
 "nbformat": 4,
 "nbformat_minor": 2
}
