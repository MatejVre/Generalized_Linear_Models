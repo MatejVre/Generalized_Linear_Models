{
 "cells": [
  {
   "cell_type": "code",
   "execution_count": 1,
   "metadata": {},
   "outputs": [],
   "source": [
    "import numpy as np\n",
    "from scipy.optimize import fmin_l_bfgs_b\n",
    "import pandas as pd\n",
    "from sklearn.model_selection import train_test_split\n",
    "from sklearn.preprocessing import LabelEncoder, OneHotEncoder, StandardScaler\n",
    "from sklearn.compose import ColumnTransformer\n",
    "from solution import MultinomialLogReg\n"
   ]
  },
  {
   "cell_type": "code",
   "execution_count": 2,
   "metadata": {},
   "outputs": [
    {
     "data": {
      "text/plain": [
       "array(['above head', 'layup', 'other', 'hook shot', 'dunk', 'tip-in'],\n",
       "      dtype=object)"
      ]
     },
     "execution_count": 2,
     "metadata": {},
     "output_type": "execute_result"
    }
   ],
   "source": [
    "df = pd.read_csv(\"dataset.csv\", delimiter=\";\")\n",
    "df[\"ShotType\"].unique()"
   ]
  },
  {
   "cell_type": "code",
   "execution_count": 9,
   "metadata": {},
   "outputs": [],
   "source": [
    "transformer = ColumnTransformer(\n",
    "    transformers=[\n",
    "        (\"pass\", \"passthrough\", [\"Transition\", \"TwoLegged\"]),\n",
    "        (\"categorical\", OneHotEncoder(), [\"Competition\", \"PlayerType\", \"Movement\"]),\n",
    "        (\"scaled\", StandardScaler(), [\"Angle\", \"Distance\"])\n",
    "    ]\n",
    ")\n",
    "\n",
    "# train, test = train_test_split(df, test_size=0.2, random_state=42)\n",
    "\n",
    "# y_train = train[\"ShotType\"]\n",
    "# X_train = train.drop(columns=\"ShotType\")\n",
    "\n",
    "y = df[\"ShotType\"]\n",
    "X = df.drop(columns=\"ShotType\")\n",
    "\n",
    "transformer.fit(X)\n",
    "transformed_X = transformer.transform(X)\n",
    "# transformed_X_test = transformer.transform(X)\n",
    "\n",
    "encoder = LabelEncoder()\n",
    "encoder.fit(y)\n",
    "\n",
    "encoded_y = encoder.transform(y)\n",
    "# encoded_y_test = encoder.transform(y_test)\n",
    "\n",
    "\n",
    "# transformed_train_df = pd.DataFrame(transformed_X_train, columns=transformer.get_feature_names_out())\n"
   ]
  },
  {
   "cell_type": "code",
   "execution_count": 10,
   "metadata": {},
   "outputs": [
    {
     "name": "stdout",
     "output_type": "stream",
     "text": [
      "[[-0.59777568  0.38082522 -0.96096368 -0.14233203 -0.49060935]\n",
      " [-4.20352326  6.54572122 -3.99006849  9.18240591 -5.56109633]\n",
      " [-0.16595592 -0.18466989  0.19034236 -1.87503352 -0.30257222]\n",
      " [ 0.42281681  0.99882089  0.06461982 -0.94213105  0.45900785]\n",
      " [-0.19214429 -0.36512171  0.10463414 -1.39905734 -0.73479095]\n",
      " [ 5.02882703 -4.54370225  3.77017412  3.62192664  5.81712655]\n",
      " [ 1.98657048  0.0391043   1.27397555  0.98341359  2.46567478]\n",
      " [ 1.70883781 -0.42547992  1.22151118  1.40611247  2.04552082]\n",
      " [ 2.25294011 -1.39998279  1.36532933  1.83404828  2.92781499]\n",
      " [ 1.96696701 -1.3075701   0.81284748  1.76770436  2.83703723]\n",
      " [ 6.70574736 -3.55861886 -3.74051951  7.0420622   4.86250606]\n",
      " [-5.07288449 -1.55156995 -2.33520204  7.340965    5.52907462]\n",
      " [ 6.27437229  0.64770877  8.40112871 -8.34283017  3.28250464]\n",
      " [ 0.32183658  0.19173425  0.07093223  0.62479195  0.34459957]\n",
      " [ 9.90825537  2.65559242  7.76157253  5.50238731  9.63228876]\n",
      " [ 7.95319411 -2.96540822  4.11907132  6.38553193  8.86773324]]\n"
     ]
    },
    {
     "data": {
      "text/plain": [
       "<solution.MultinomialLogReg at 0x25fa9557820>"
      ]
     },
     "execution_count": 10,
     "metadata": {},
     "output_type": "execute_result"
    }
   ],
   "source": [
    "mult_reg = MultinomialLogReg()\n",
    "mult_reg.build(transformed_X, encoded_y)"
   ]
  },
  {
   "cell_type": "code",
   "execution_count": null,
   "metadata": {},
   "outputs": [
    {
     "name": "stdout",
     "output_type": "stream",
     "text": [
      "0.7422885572139304\n"
     ]
    }
   ],
   "source": [
    "# probs = mult_reg.predict(transformed_X_test)\n",
    "# classes = np.argmax(probs, axis=1)\n",
    "# # predictions = [mult_reg.decoder[label] for label in classes]\n",
    "# accuracy = np.mean(classes == encoded_y_test)\n",
    "# print(accuracy)"
   ]
  },
  {
   "cell_type": "code",
   "execution_count": 7,
   "metadata": {},
   "outputs": [
    {
     "data": {
      "text/plain": [
       "[0, 1, 2, 3, 4]"
      ]
     },
     "execution_count": 7,
     "metadata": {},
     "output_type": "execute_result"
    }
   ],
   "source": [
    "uniq = df[\"ShotType\"].unique()\n",
    "encoder.transform(uniq)\n",
    "[i for i in range(mult_reg.betas.shape[1])]"
   ]
  },
  {
   "cell_type": "code",
   "execution_count": 13,
   "metadata": {},
   "outputs": [
    {
     "data": {
      "text/html": [
       "<div>\n",
       "<style scoped>\n",
       "    .dataframe tbody tr th:only-of-type {\n",
       "        vertical-align: middle;\n",
       "    }\n",
       "\n",
       "    .dataframe tbody tr th {\n",
       "        vertical-align: top;\n",
       "    }\n",
       "\n",
       "    .dataframe thead th {\n",
       "        text-align: right;\n",
       "    }\n",
       "</style>\n",
       "<table border=\"1\" class=\"dataframe\">\n",
       "  <thead>\n",
       "    <tr style=\"text-align: right;\">\n",
       "      <th></th>\n",
       "      <th>pass__Transition</th>\n",
       "      <th>pass__TwoLegged</th>\n",
       "      <th>categorical__Competition_EURO</th>\n",
       "      <th>categorical__Competition_NBA</th>\n",
       "      <th>categorical__Competition_SLO1</th>\n",
       "      <th>categorical__Competition_U14</th>\n",
       "      <th>categorical__Competition_U16</th>\n",
       "      <th>categorical__PlayerType_C</th>\n",
       "      <th>categorical__PlayerType_F</th>\n",
       "      <th>categorical__PlayerType_G</th>\n",
       "      <th>categorical__Movement_dribble or cut</th>\n",
       "      <th>categorical__Movement_drive</th>\n",
       "      <th>categorical__Movement_no</th>\n",
       "      <th>scaled__Angle</th>\n",
       "      <th>scaled__Distance</th>\n",
       "      <th>intercept</th>\n",
       "    </tr>\n",
       "  </thead>\n",
       "  <tbody>\n",
       "    <tr>\n",
       "      <th>above head</th>\n",
       "      <td>-0.597776</td>\n",
       "      <td>-4.203523</td>\n",
       "      <td>-0.165956</td>\n",
       "      <td>0.422817</td>\n",
       "      <td>-0.192144</td>\n",
       "      <td>5.028827</td>\n",
       "      <td>1.986570</td>\n",
       "      <td>1.708838</td>\n",
       "      <td>2.252940</td>\n",
       "      <td>1.966967</td>\n",
       "      <td>6.705747</td>\n",
       "      <td>-5.072884</td>\n",
       "      <td>6.274372</td>\n",
       "      <td>0.321837</td>\n",
       "      <td>9.908255</td>\n",
       "      <td>7.953194</td>\n",
       "    </tr>\n",
       "    <tr>\n",
       "      <th>dunk</th>\n",
       "      <td>0.380825</td>\n",
       "      <td>6.545721</td>\n",
       "      <td>-0.184670</td>\n",
       "      <td>0.998821</td>\n",
       "      <td>-0.365122</td>\n",
       "      <td>-4.543702</td>\n",
       "      <td>0.039104</td>\n",
       "      <td>-0.425480</td>\n",
       "      <td>-1.399983</td>\n",
       "      <td>-1.307570</td>\n",
       "      <td>-3.558619</td>\n",
       "      <td>-1.551570</td>\n",
       "      <td>0.647709</td>\n",
       "      <td>0.191734</td>\n",
       "      <td>2.655592</td>\n",
       "      <td>-2.965408</td>\n",
       "    </tr>\n",
       "    <tr>\n",
       "      <th>hook shot</th>\n",
       "      <td>-0.960964</td>\n",
       "      <td>-3.990068</td>\n",
       "      <td>0.190342</td>\n",
       "      <td>0.064620</td>\n",
       "      <td>0.104634</td>\n",
       "      <td>3.770174</td>\n",
       "      <td>1.273976</td>\n",
       "      <td>1.221511</td>\n",
       "      <td>1.365329</td>\n",
       "      <td>0.812847</td>\n",
       "      <td>-3.740520</td>\n",
       "      <td>-2.335202</td>\n",
       "      <td>8.401129</td>\n",
       "      <td>0.070932</td>\n",
       "      <td>7.761573</td>\n",
       "      <td>4.119071</td>\n",
       "    </tr>\n",
       "    <tr>\n",
       "      <th>layup</th>\n",
       "      <td>-0.142332</td>\n",
       "      <td>9.182406</td>\n",
       "      <td>-1.875034</td>\n",
       "      <td>-0.942131</td>\n",
       "      <td>-1.399057</td>\n",
       "      <td>3.621927</td>\n",
       "      <td>0.983414</td>\n",
       "      <td>1.406112</td>\n",
       "      <td>1.834048</td>\n",
       "      <td>1.767704</td>\n",
       "      <td>7.042062</td>\n",
       "      <td>7.340965</td>\n",
       "      <td>-8.342830</td>\n",
       "      <td>0.624792</td>\n",
       "      <td>5.502387</td>\n",
       "      <td>6.385532</td>\n",
       "    </tr>\n",
       "    <tr>\n",
       "      <th>other</th>\n",
       "      <td>-0.490609</td>\n",
       "      <td>-5.561096</td>\n",
       "      <td>-0.302572</td>\n",
       "      <td>0.459008</td>\n",
       "      <td>-0.734791</td>\n",
       "      <td>5.817127</td>\n",
       "      <td>2.465675</td>\n",
       "      <td>2.045521</td>\n",
       "      <td>2.927815</td>\n",
       "      <td>2.837037</td>\n",
       "      <td>4.862506</td>\n",
       "      <td>5.529075</td>\n",
       "      <td>3.282505</td>\n",
       "      <td>0.344600</td>\n",
       "      <td>9.632289</td>\n",
       "      <td>8.867733</td>\n",
       "    </tr>\n",
       "  </tbody>\n",
       "</table>\n",
       "</div>"
      ],
      "text/plain": [
       "            pass__Transition  pass__TwoLegged  categorical__Competition_EURO  \\\n",
       "above head         -0.597776        -4.203523                      -0.165956   \n",
       "dunk                0.380825         6.545721                      -0.184670   \n",
       "hook shot          -0.960964        -3.990068                       0.190342   \n",
       "layup              -0.142332         9.182406                      -1.875034   \n",
       "other              -0.490609        -5.561096                      -0.302572   \n",
       "\n",
       "            categorical__Competition_NBA  categorical__Competition_SLO1  \\\n",
       "above head                      0.422817                      -0.192144   \n",
       "dunk                            0.998821                      -0.365122   \n",
       "hook shot                       0.064620                       0.104634   \n",
       "layup                          -0.942131                      -1.399057   \n",
       "other                           0.459008                      -0.734791   \n",
       "\n",
       "            categorical__Competition_U14  categorical__Competition_U16  \\\n",
       "above head                      5.028827                      1.986570   \n",
       "dunk                           -4.543702                      0.039104   \n",
       "hook shot                       3.770174                      1.273976   \n",
       "layup                           3.621927                      0.983414   \n",
       "other                           5.817127                      2.465675   \n",
       "\n",
       "            categorical__PlayerType_C  categorical__PlayerType_F  \\\n",
       "above head                   1.708838                   2.252940   \n",
       "dunk                        -0.425480                  -1.399983   \n",
       "hook shot                    1.221511                   1.365329   \n",
       "layup                        1.406112                   1.834048   \n",
       "other                        2.045521                   2.927815   \n",
       "\n",
       "            categorical__PlayerType_G  categorical__Movement_dribble or cut  \\\n",
       "above head                   1.966967                              6.705747   \n",
       "dunk                        -1.307570                             -3.558619   \n",
       "hook shot                    0.812847                             -3.740520   \n",
       "layup                        1.767704                              7.042062   \n",
       "other                        2.837037                              4.862506   \n",
       "\n",
       "            categorical__Movement_drive  categorical__Movement_no  \\\n",
       "above head                    -5.072884                  6.274372   \n",
       "dunk                          -1.551570                  0.647709   \n",
       "hook shot                     -2.335202                  8.401129   \n",
       "layup                          7.340965                 -8.342830   \n",
       "other                          5.529075                  3.282505   \n",
       "\n",
       "            scaled__Angle  scaled__Distance  intercept  \n",
       "above head       0.321837          9.908255   7.953194  \n",
       "dunk             0.191734          2.655592  -2.965408  \n",
       "hook shot        0.070932          7.761573   4.119071  \n",
       "layup            0.624792          5.502387   6.385532  \n",
       "other            0.344600          9.632289   8.867733  "
      ]
     },
     "execution_count": 13,
     "metadata": {},
     "output_type": "execute_result"
    }
   ],
   "source": [
    "\n",
    "betas = pd.DataFrame(mult_reg.betas.T, columns=np.concatenate((transformer.get_feature_names_out(), ([\"intercept\"]))), index=encoder.inverse_transform([i for i in range(mult_reg.betas.shape[1])]))\n",
    "betas"
   ]
  },
  {
   "cell_type": "markdown",
   "metadata": {},
   "source": [
    "So apparently one way to calculate the SE for each beta is sqrt(Var-Cov matrix of betas) and then every diagonal elemen"
   ]
  },
  {
   "cell_type": "code",
   "execution_count": 17,
   "metadata": {},
   "outputs": [
    {
     "data": {
      "text/html": [
       "<div>\n",
       "<style scoped>\n",
       "    .dataframe tbody tr th:only-of-type {\n",
       "        vertical-align: middle;\n",
       "    }\n",
       "\n",
       "    .dataframe tbody tr th {\n",
       "        vertical-align: top;\n",
       "    }\n",
       "\n",
       "    .dataframe thead th {\n",
       "        text-align: right;\n",
       "    }\n",
       "</style>\n",
       "<table border=\"1\" class=\"dataframe\">\n",
       "  <thead>\n",
       "    <tr style=\"text-align: right;\">\n",
       "      <th></th>\n",
       "      <th>ShotType</th>\n",
       "      <th>Competition</th>\n",
       "      <th>PlayerType</th>\n",
       "      <th>Transition</th>\n",
       "      <th>Movement</th>\n",
       "      <th>Angle</th>\n",
       "      <th>Distance</th>\n",
       "    </tr>\n",
       "    <tr>\n",
       "      <th>TwoLegged</th>\n",
       "      <th></th>\n",
       "      <th></th>\n",
       "      <th></th>\n",
       "      <th></th>\n",
       "      <th></th>\n",
       "      <th></th>\n",
       "      <th></th>\n",
       "    </tr>\n",
       "  </thead>\n",
       "  <tbody>\n",
       "    <tr>\n",
       "      <th>1</th>\n",
       "      <td>99</td>\n",
       "      <td>99</td>\n",
       "      <td>99</td>\n",
       "      <td>99</td>\n",
       "      <td>99</td>\n",
       "      <td>99</td>\n",
       "      <td>99</td>\n",
       "    </tr>\n",
       "  </tbody>\n",
       "</table>\n",
       "</div>"
      ],
      "text/plain": [
       "           ShotType  Competition  PlayerType  Transition  Movement  Angle  \\\n",
       "TwoLegged                                                                   \n",
       "1                99           99          99          99        99     99   \n",
       "\n",
       "           Distance  \n",
       "TwoLegged            \n",
       "1                99  "
      ]
     },
     "execution_count": 17,
     "metadata": {},
     "output_type": "execute_result"
    }
   ],
   "source": [
    "df.loc[df[\"ShotType\"] == \"dunk\"].groupby(\"TwoLegged\").count()"
   ]
  },
  {
   "cell_type": "code",
   "execution_count": 18,
   "metadata": {},
   "outputs": [
    {
     "data": {
      "text/html": [
       "<div>\n",
       "<style scoped>\n",
       "    .dataframe tbody tr th:only-of-type {\n",
       "        vertical-align: middle;\n",
       "    }\n",
       "\n",
       "    .dataframe tbody tr th {\n",
       "        vertical-align: top;\n",
       "    }\n",
       "\n",
       "    .dataframe thead th {\n",
       "        text-align: right;\n",
       "    }\n",
       "</style>\n",
       "<table border=\"1\" class=\"dataframe\">\n",
       "  <thead>\n",
       "    <tr style=\"text-align: right;\">\n",
       "      <th></th>\n",
       "      <th>ShotType</th>\n",
       "      <th>Competition</th>\n",
       "      <th>PlayerType</th>\n",
       "      <th>Transition</th>\n",
       "      <th>Movement</th>\n",
       "      <th>Angle</th>\n",
       "      <th>Distance</th>\n",
       "    </tr>\n",
       "    <tr>\n",
       "      <th>TwoLegged</th>\n",
       "      <th></th>\n",
       "      <th></th>\n",
       "      <th></th>\n",
       "      <th></th>\n",
       "      <th></th>\n",
       "      <th></th>\n",
       "      <th></th>\n",
       "    </tr>\n",
       "  </thead>\n",
       "  <tbody>\n",
       "    <tr>\n",
       "      <th>1</th>\n",
       "      <td>61</td>\n",
       "      <td>61</td>\n",
       "      <td>61</td>\n",
       "      <td>61</td>\n",
       "      <td>61</td>\n",
       "      <td>61</td>\n",
       "      <td>61</td>\n",
       "    </tr>\n",
       "  </tbody>\n",
       "</table>\n",
       "</div>"
      ],
      "text/plain": [
       "           ShotType  Competition  PlayerType  Transition  Movement  Angle  \\\n",
       "TwoLegged                                                                   \n",
       "1                61           61          61          61        61     61   \n",
       "\n",
       "           Distance  \n",
       "TwoLegged            \n",
       "1                61  "
      ]
     },
     "execution_count": 18,
     "metadata": {},
     "output_type": "execute_result"
    }
   ],
   "source": [
    "df.loc[df[\"ShotType\"] == \"tip-in\"].groupby(\"TwoLegged\").count()"
   ]
  }
 ],
 "metadata": {
  "kernelspec": {
   "display_name": "MLDS_P2",
   "language": "python",
   "name": "python3"
  },
  "language_info": {
   "codemirror_mode": {
    "name": "ipython",
    "version": 3
   },
   "file_extension": ".py",
   "mimetype": "text/x-python",
   "name": "python",
   "nbconvert_exporter": "python",
   "pygments_lexer": "ipython3",
   "version": "3.8.20"
  }
 },
 "nbformat": 4,
 "nbformat_minor": 2
}
